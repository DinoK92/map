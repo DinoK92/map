{
 "cells": [
  {
   "cell_type": "code",
   "execution_count": null,
   "metadata": {},
   "outputs": [],
   "source": [
    "import pandas as pd\n",
    "import folium\n",
    "import json\n",
    "\n",
    "# File paths\n",
    "file_active = \"Cannabis_Licenses-Active.csv\"\n",
    "file_pending = \"Cannabis_Licenses-Pending.csv\"\n",
    "file_schools = \"NYS_Schools_-4319390094772155576.csv\"\n",
    "file_worship = \"PlaceOfWorshipNew_10852075122364174.csv\"\n",
    "\n",
    "# Load datasets\n",
    "df_active = pd.read_csv(file_active)\n",
    "df_pending = pd.read_csv(file_pending)\n",
    "df_schools = pd.read_csv(file_schools)\n",
    "df_worship = pd.read_csv(file_worship)\n",
    "\n",
    "# Rename columns for consistency\n",
    "df_active.rename(columns={\"Address Line 1\": \"Street\"}, inplace=True)\n",
    "df_pending.rename(columns={\"Address Line 1\": \"Street\"}, inplace=True)\n",
    "df_schools.rename(columns={\"Address\": \"Street\", \"x\": \"Longitude\", \"y\": \"Latitude\"}, inplace=True)\n",
    "df_worship.rename(columns={\"NAME\": \"Street\", \"x\": \"Longitude\", \"y\": \"Latitude\"}, inplace=True)\n",
    "\n",
    "# Add Status Labels\n",
    "df_active[\"Status\"] = \"Active\"\n",
    "df_pending[\"Status\"] = \"Pending\"\n",
    "df_schools[\"Status\"] = \"School\"\n",
    "df_worship[\"Status\"] = \"Place of Worship\"\n",
    "\n",
    "# Add State Default Values\n",
    "df_active[\"State\"] = \"NY\"\n",
    "df_pending[\"State\"] = \"NY\"\n",
    "\n",
    "# Merge all data\n",
    "df_combined = pd.concat([df_active, df_pending, df_schools, df_worship], ignore_index=True)\n",
    "\n",
    "# Export Data as JSON\n",
    "json_file_path = \"map_data.json\"\n",
    "df_combined.to_json(json_file_path, orient=\"records\")\n",
    "\n",
    "print(f\"Map data saved as {json_file_path}\")\n"
   ]
  }
 ],
 "metadata": {
  "kernelspec": {
   "display_name": "Python 3",
   "language": "python",
   "name": "python3"
  },
  "language_info": {
   "name": "python",
   "version": "3.10.13"
  }
 },
 "nbformat": 4,
 "nbformat_minor": 2
}
